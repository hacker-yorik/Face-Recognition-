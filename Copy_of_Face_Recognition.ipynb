{
  "nbformat": 4,
  "nbformat_minor": 0,
  "metadata": {
    "kernelspec": {
      "display_name": "Python 3",
      "language": "python",
      "name": "python3"
    },
    "language_info": {
      "codemirror_mode": {
        "name": "ipython",
        "version": 3
      },
      "file_extension": ".py",
      "mimetype": "text/x-python",
      "name": "python",
      "nbconvert_exporter": "python",
      "pygments_lexer": "ipython3",
      "version": "3.7.6"
    },
    "colab": {
      "name": "Copy of Face Recognition.ipynb",
      "provenance": [],
      "include_colab_link": true
    },
    "accelerator": "GPU"
  },
  "cells": [
    {
      "cell_type": "markdown",
      "metadata": {
        "id": "view-in-github",
        "colab_type": "text"
      },
      "source": [
        "<a href=\"https://colab.research.google.com/github/hacker-yorik/Face-Recognition-/blob/master/Copy_of_Face_Recognition.ipynb\" target=\"_parent\"><img src=\"https://colab.research.google.com/assets/colab-badge.svg\" alt=\"Open In Colab\"/></a>"
      ]
    },
    {
      "cell_type": "code",
      "metadata": {
        "id": "PtADptlTS5bT",
        "colab_type": "code",
        "colab": {
          "base_uri": "https://localhost:8080/",
          "height": 127
        },
        "outputId": "f026a87f-6c4d-407b-d8a3-c8a35cfee27a"
      },
      "source": [
        "import numpy as np \n",
        "import tensorflow as tf\n",
        "import matplotlib.pyplot as plt\n",
        "import os\n",
        "import PIL\n",
        "\n",
        "width=120\n",
        "height=120\n",
        "\n",
        "from google.colab import drive\n",
        "drive.mount('/content/gdrive')\n",
        "\n"
      ],
      "execution_count": 2,
      "outputs": [
        {
          "output_type": "stream",
          "text": [
            "Go to this URL in a browser: https://accounts.google.com/o/oauth2/auth?client_id=947318989803-6bn6qk8qdgf4n4g3pfee6491hc0brc4i.apps.googleusercontent.com&redirect_uri=urn%3aietf%3awg%3aoauth%3a2.0%3aoob&response_type=code&scope=email%20https%3a%2f%2fwww.googleapis.com%2fauth%2fdocs.test%20https%3a%2f%2fwww.googleapis.com%2fauth%2fdrive%20https%3a%2f%2fwww.googleapis.com%2fauth%2fdrive.photos.readonly%20https%3a%2f%2fwww.googleapis.com%2fauth%2fpeopleapi.readonly\n",
            "\n",
            "Enter your authorization code:\n",
            "··········\n",
            "Mounted at /content/gdrive\n"
          ],
          "name": "stdout"
        }
      ]
    },
    {
      "cell_type": "code",
      "metadata": {
        "id": "ZaHvm3r2S5bX",
        "colab_type": "code",
        "colab": {}
      },
      "source": [
        "data=tf.data.Dataset.list_files(\"/content/gdrive/My Drive/lfw-deepfunneled/*/*\")\n",
        "\n",
        "\n"
      ],
      "execution_count": 3,
      "outputs": []
    },
    {
      "cell_type": "code",
      "metadata": {
        "id": "iGDcN8HSS5ba",
        "colab_type": "code",
        "colab": {
          "base_uri": "https://localhost:8080/",
          "height": 35
        },
        "outputId": "a056ff0c-79ec-4d47-b9a9-044bdaad9ddd"
      },
      "source": [
        "tf.test.gpu_device_name()"
      ],
      "execution_count": 4,
      "outputs": [
        {
          "output_type": "execute_result",
          "data": {
            "text/plain": [
              "'/device:GPU:0'"
            ]
          },
          "metadata": {
            "tags": []
          },
          "execution_count": 4
        }
      ]
    },
    {
      "cell_type": "code",
      "metadata": {
        "id": "VWz3MReGS5bd",
        "colab_type": "code",
        "colab": {}
      },
      "source": [
        "\n",
        "\n",
        "\n"
      ],
      "execution_count": null,
      "outputs": []
    },
    {
      "cell_type": "code",
      "metadata": {
        "id": "cpkwlGDpS5bh",
        "colab_type": "code",
        "colab": {}
      },
      "source": [
        "def give_label(file_path):\n",
        "    parts = tf.strings.split(file_path, os.path.sep)\n",
        "    return parts[-2] == \"Georg_Maier\"\n",
        "\n",
        "def decode_img(img):\n",
        "    img = tf.image.decode_jpeg(img, channels=3)\n",
        "    img = tf.image.convert_image_dtype(img, tf.float32)\n",
        "    return tf.image.resize(img, [width, height])\n",
        "\n",
        "def process_path(file_path):\n",
        "    print(type(file_path))\n",
        "    title=give_label(file_path)\n",
        "    img = tf.io.read_file(file_path)\n",
        "    img = decode_img(img)\n",
        "    return img,title\n"
      ],
      "execution_count": 5,
      "outputs": []
    },
    {
      "cell_type": "code",
      "metadata": {
        "id": "wjyQwR58lR1G",
        "colab_type": "code",
        "colab": {
          "base_uri": "https://localhost:8080/",
          "height": 34
        },
        "outputId": "030fef3d-5cec-46cc-f3a2-6e4ccacd3e8d"
      },
      "source": [
        "def speed_up_data():\n",
        "  data_speed=tf.data.Dataset.list_files(\"/content/gdrive/My Drive/lfw-deepfunneled/Aaron_Eckhart/Aaron_Eckhart_0001.jpg\")\n",
        "  return data_speed.map(process_path).batch(1)\n",
        "\n",
        "data_to_speed=speed_up_data()"
      ],
      "execution_count": null,
      "outputs": [
        {
          "output_type": "stream",
          "text": [
            "<class 'tensorflow.python.framework.ops.Tensor'>\n"
          ],
          "name": "stdout"
        }
      ]
    },
    {
      "cell_type": "code",
      "metadata": {
        "id": "JAsTP0yZS5bk",
        "colab_type": "code",
        "colab": {
          "base_uri": "https://localhost:8080/",
          "height": 53
        },
        "outputId": "63918b3e-1120-474b-f8a8-5b5573dd72f9"
      },
      "source": [
        "labeled_ds = data.map(process_path)\n",
        "type(labeled_ds)\n",
        "AUTOTUNE = tf.data.experimental.AUTOTUNE\n",
        "BATCH_SIZE=1\n",
        "\n",
        "labeled_ds=labeled_ds.batch(BATCH_SIZE)\n",
        "\n",
        "#tensored=tf.convert_to_tensor(labeled_ds)\n",
        "# labeled_ds=tf.reshape(labeled_ds,(1,120,120,3))\n",
        "\n",
        "print((labeled_ds))\n"
      ],
      "execution_count": 6,
      "outputs": [
        {
          "output_type": "stream",
          "text": [
            "<class 'tensorflow.python.framework.ops.Tensor'>\n",
            "<BatchDataset shapes: ((None, 120, 120, 3), (None,)), types: (tf.float32, tf.bool)>\n"
          ],
          "name": "stdout"
        }
      ]
    },
    {
      "cell_type": "code",
      "metadata": {
        "id": "t5ZhnSerS5bo",
        "colab_type": "code",
        "colab": {}
      },
      "source": [
        ""
      ],
      "execution_count": null,
      "outputs": []
    },
    {
      "cell_type": "code",
      "metadata": {
        "id": "40_EbPtQS5bs",
        "colab_type": "code",
        "colab": {}
      },
      "source": [
        ""
      ],
      "execution_count": null,
      "outputs": []
    },
    {
      "cell_type": "code",
      "metadata": {
        "id": "ip56GTrcS5bv",
        "colab_type": "code",
        "colab": {}
      },
      "source": [
        ""
      ],
      "execution_count": null,
      "outputs": []
    },
    {
      "cell_type": "code",
      "metadata": {
        "id": "gfwo15_VS5by",
        "colab_type": "code",
        "colab": {}
      },
      "source": [
        "# model = tf.keras.Sequential([\n",
        "#     tf.keras.layers.Conv2D(4, (2,2), strides=(1,1), activation=\"relu\", input_shape=(120, 120,3)),\n",
        "#     tf.keras.layers.MaxPooling2D((2,2)),\n",
        "#     tf.keras.layers.Conv2D(4, (2,2), strides=(1,1), activation=\"relu\"),\n",
        "#     tf.keras.layers.MaxPooling2D((2,2)),\n",
        "#     tf.keras.layers.Conv2D(4, (2,2), strides=(1,1), activation=\"relu\"),\n",
        "#     tf.keras.layers.MaxPooling2D((2,2)),\n",
        "#     tf.keras.layers.Conv2D(4, (2,2), strides=(1,1), activation=\"relu\"),\n",
        "#     tf.keras.layers.MaxPooling2D((2,2)),\n",
        "#     tf.keras.layers.Conv2D(4, (2,2), strides=(1,1), activation=\"relu\"),\n",
        "#     tf.keras.layers.MaxPooling2D((2,2)),\n",
        "#     tf.keras.layers.Flatten(),\n",
        "#     tf.keras.layers.Dense(1, activation='sigmoid')\n",
        "# ])\n",
        "\n",
        "network_input = tf.keras.Input(shape=(120, 120, 3), name=\"img\")\n",
        "\n",
        "#First conv layer\n",
        "x1 = tf.keras.layers.Conv2D(60, (4,4), strides=(1,1), activation=\"relu\")(network_input)\n",
        "x1 = tf.keras.layers.MaxPooling2D((2,2))(x1)\n",
        "\n",
        "for i in range(8):\n",
        "    #First skip layer\n",
        "    x2 = tf.keras.layers.Conv2D(60, (2,2), strides=(1,1), activation=\"relu\", padding=\"same\")(x1)\n",
        "    x2 = tf.keras.layers.Conv2D(60, (2,2), strides=(1,1), activation=None, padding=\"same\")(x2)\n",
        "    #Skip connection\n",
        "    x3 = tf.keras.layers.Add()([x1,x2])\n",
        "    x3 = tf.keras.layers.ReLU()(x3)\n",
        "    x1 = x3\n",
        "\n",
        "network_output = tf.keras.layers.AvgPool2D((4,4))(x3)\n",
        "network_output = tf.keras.layers.Flatten()(network_output)\n",
        "network_output = tf.keras.layers.Dense(1,activation=\"sigmoid\")(network_output)\n",
        "model = tf.keras.Model(network_input, network_output, name=\"MyResNet\")"
      ],
      "execution_count": 26,
      "outputs": []
    },
    {
      "cell_type": "code",
      "metadata": {
        "id": "g7uLY0ynS5b1",
        "colab_type": "code",
        "colab": {
          "base_uri": "https://localhost:8080/",
          "height": 1000
        },
        "outputId": "e778c844-28c0-4ca4-fa79-9aa019b6c2bd"
      },
      "source": [
        "model.summary()"
      ],
      "execution_count": 27,
      "outputs": [
        {
          "output_type": "stream",
          "text": [
            "Model: \"MyResNet\"\n",
            "__________________________________________________________________________________________________\n",
            "Layer (type)                    Output Shape         Param #     Connected to                     \n",
            "==================================================================================================\n",
            "img (InputLayer)                [(None, 120, 120, 3) 0                                            \n",
            "__________________________________________________________________________________________________\n",
            "conv2d_42 (Conv2D)              (None, 117, 117, 60) 2940        img[0][0]                        \n",
            "__________________________________________________________________________________________________\n",
            "max_pooling2d_8 (MaxPooling2D)  (None, 58, 58, 60)   0           conv2d_42[0][0]                  \n",
            "__________________________________________________________________________________________________\n",
            "conv2d_43 (Conv2D)              (None, 58, 58, 60)   14460       max_pooling2d_8[0][0]            \n",
            "__________________________________________________________________________________________________\n",
            "conv2d_44 (Conv2D)              (None, 58, 58, 60)   14460       conv2d_43[0][0]                  \n",
            "__________________________________________________________________________________________________\n",
            "add_17 (Add)                    (None, 58, 58, 60)   0           max_pooling2d_8[0][0]            \n",
            "                                                                 conv2d_44[0][0]                  \n",
            "__________________________________________________________________________________________________\n",
            "re_lu_16 (ReLU)                 (None, 58, 58, 60)   0           add_17[0][0]                     \n",
            "__________________________________________________________________________________________________\n",
            "conv2d_45 (Conv2D)              (None, 58, 58, 60)   14460       re_lu_16[0][0]                   \n",
            "__________________________________________________________________________________________________\n",
            "conv2d_46 (Conv2D)              (None, 58, 58, 60)   14460       conv2d_45[0][0]                  \n",
            "__________________________________________________________________________________________________\n",
            "add_18 (Add)                    (None, 58, 58, 60)   0           re_lu_16[0][0]                   \n",
            "                                                                 conv2d_46[0][0]                  \n",
            "__________________________________________________________________________________________________\n",
            "re_lu_17 (ReLU)                 (None, 58, 58, 60)   0           add_18[0][0]                     \n",
            "__________________________________________________________________________________________________\n",
            "conv2d_47 (Conv2D)              (None, 58, 58, 60)   14460       re_lu_17[0][0]                   \n",
            "__________________________________________________________________________________________________\n",
            "conv2d_48 (Conv2D)              (None, 58, 58, 60)   14460       conv2d_47[0][0]                  \n",
            "__________________________________________________________________________________________________\n",
            "add_19 (Add)                    (None, 58, 58, 60)   0           re_lu_17[0][0]                   \n",
            "                                                                 conv2d_48[0][0]                  \n",
            "__________________________________________________________________________________________________\n",
            "re_lu_18 (ReLU)                 (None, 58, 58, 60)   0           add_19[0][0]                     \n",
            "__________________________________________________________________________________________________\n",
            "conv2d_49 (Conv2D)              (None, 58, 58, 60)   14460       re_lu_18[0][0]                   \n",
            "__________________________________________________________________________________________________\n",
            "conv2d_50 (Conv2D)              (None, 58, 58, 60)   14460       conv2d_49[0][0]                  \n",
            "__________________________________________________________________________________________________\n",
            "add_20 (Add)                    (None, 58, 58, 60)   0           re_lu_18[0][0]                   \n",
            "                                                                 conv2d_50[0][0]                  \n",
            "__________________________________________________________________________________________________\n",
            "re_lu_19 (ReLU)                 (None, 58, 58, 60)   0           add_20[0][0]                     \n",
            "__________________________________________________________________________________________________\n",
            "conv2d_51 (Conv2D)              (None, 58, 58, 60)   14460       re_lu_19[0][0]                   \n",
            "__________________________________________________________________________________________________\n",
            "conv2d_52 (Conv2D)              (None, 58, 58, 60)   14460       conv2d_51[0][0]                  \n",
            "__________________________________________________________________________________________________\n",
            "add_21 (Add)                    (None, 58, 58, 60)   0           re_lu_19[0][0]                   \n",
            "                                                                 conv2d_52[0][0]                  \n",
            "__________________________________________________________________________________________________\n",
            "re_lu_20 (ReLU)                 (None, 58, 58, 60)   0           add_21[0][0]                     \n",
            "__________________________________________________________________________________________________\n",
            "conv2d_53 (Conv2D)              (None, 58, 58, 60)   14460       re_lu_20[0][0]                   \n",
            "__________________________________________________________________________________________________\n",
            "conv2d_54 (Conv2D)              (None, 58, 58, 60)   14460       conv2d_53[0][0]                  \n",
            "__________________________________________________________________________________________________\n",
            "add_22 (Add)                    (None, 58, 58, 60)   0           re_lu_20[0][0]                   \n",
            "                                                                 conv2d_54[0][0]                  \n",
            "__________________________________________________________________________________________________\n",
            "re_lu_21 (ReLU)                 (None, 58, 58, 60)   0           add_22[0][0]                     \n",
            "__________________________________________________________________________________________________\n",
            "conv2d_55 (Conv2D)              (None, 58, 58, 60)   14460       re_lu_21[0][0]                   \n",
            "__________________________________________________________________________________________________\n",
            "conv2d_56 (Conv2D)              (None, 58, 58, 60)   14460       conv2d_55[0][0]                  \n",
            "__________________________________________________________________________________________________\n",
            "add_23 (Add)                    (None, 58, 58, 60)   0           re_lu_21[0][0]                   \n",
            "                                                                 conv2d_56[0][0]                  \n",
            "__________________________________________________________________________________________________\n",
            "re_lu_22 (ReLU)                 (None, 58, 58, 60)   0           add_23[0][0]                     \n",
            "__________________________________________________________________________________________________\n",
            "conv2d_57 (Conv2D)              (None, 58, 58, 60)   14460       re_lu_22[0][0]                   \n",
            "__________________________________________________________________________________________________\n",
            "conv2d_58 (Conv2D)              (None, 58, 58, 60)   14460       conv2d_57[0][0]                  \n",
            "__________________________________________________________________________________________________\n",
            "add_24 (Add)                    (None, 58, 58, 60)   0           re_lu_22[0][0]                   \n",
            "                                                                 conv2d_58[0][0]                  \n",
            "__________________________________________________________________________________________________\n",
            "re_lu_23 (ReLU)                 (None, 58, 58, 60)   0           add_24[0][0]                     \n",
            "__________________________________________________________________________________________________\n",
            "average_pooling2d_2 (AveragePoo (None, 14, 14, 60)   0           re_lu_23[0][0]                   \n",
            "__________________________________________________________________________________________________\n",
            "flatten_3 (Flatten)             (None, 11760)        0           average_pooling2d_2[0][0]        \n",
            "__________________________________________________________________________________________________\n",
            "dense_3 (Dense)                 (None, 1)            11761       flatten_3[0][0]                  \n",
            "==================================================================================================\n",
            "Total params: 246,061\n",
            "Trainable params: 246,061\n",
            "Non-trainable params: 0\n",
            "__________________________________________________________________________________________________\n"
          ],
          "name": "stdout"
        }
      ]
    },
    {
      "cell_type": "code",
      "metadata": {
        "id": "gDJufQprS5b3",
        "colab_type": "code",
        "colab": {}
      },
      "source": [
        "model.compile(optimizer='adam',\n",
        "              loss='binary_crossentropy',\n",
        "              metrics=['accuracy'])"
      ],
      "execution_count": 28,
      "outputs": []
    },
    {
      "cell_type": "code",
      "metadata": {
        "id": "r4WRQwJ3S5b7",
        "colab_type": "code",
        "colab": {
          "base_uri": "https://localhost:8080/",
          "height": 89
        },
        "outputId": "7e487bee-a0c1-4858-cee8-a09ea83710b8"
      },
      "source": [
        "def fit_model(input_data,epochs):\n",
        "  with tf.device('/device:GPU:0'):\n",
        "    model.fit(input_data, epochs=epochs)\n",
        "\n",
        "\n",
        "# fit_model(data_to_speed,2)\n",
        "\n",
        "fit_model(labeled_ds,10)"
      ],
      "execution_count": null,
      "outputs": [
        {
          "output_type": "stream",
          "text": [
            "Epoch 1/10\n",
            "14096/14096 [==============================] - 261s 18ms/step - loss: 0.4311 - accuracy: 0.9378\n",
            "Epoch 2/10\n",
            " 9688/14096 [===================>..........] - ETA: 1:20 - loss: 0.1173 - accuracy: 0.9683"
          ],
          "name": "stdout"
        }
      ]
    },
    {
      "cell_type": "code",
      "metadata": {
        "id": "yZ5yX6RYS5b-",
        "colab_type": "code",
        "colab": {
          "base_uri": "https://localhost:8080/",
          "height": 35
        },
        "outputId": "943a3566-9394-4507-e2a7-c9d4d6a2053d"
      },
      "source": [
        "# model.save(\"/content/gdrive/My Drive/Model_5_ResNet_epochs=20\")\n",
        "# model=tf.keras.models.load_model(\"/content/gdrive/My Drive/Model_3_epochs=20\")"
      ],
      "execution_count": 22,
      "outputs": [
        {
          "output_type": "stream",
          "text": [
            "INFO:tensorflow:Assets written to: /content/gdrive/My Drive/Model_5_ResNet_epochs=20/assets\n"
          ],
          "name": "stdout"
        }
      ]
    },
    {
      "cell_type": "code",
      "metadata": {
        "id": "ElvrIxZZgbRW",
        "colab_type": "code",
        "colab": {
          "base_uri": "https://localhost:8080/",
          "height": 35
        },
        "outputId": "fd9e91bf-ff77-4d8d-ea4a-18d0e61c397d"
      },
      "source": [
        "import os\n",
        "paths=os.listdir(\"/content/gdrive/My Drive/Test-FaceRecognition\")\n",
        "total_score=0\n",
        "total_pics=0\n",
        "for path in paths:\n",
        "  files=os.listdir(\"/content/gdrive/My Drive/Test-FaceRecognition/\"+path)\n",
        "  total_pics+=len(files)\n",
        "\n",
        "  for pic in files:\n",
        "    #load pic and transform into predictable form\n",
        "    test_im=PIL.Image.open(\"/content/gdrive/My Drive/Test-FaceRecognition/\"+path+\"/\"+pic)\n",
        "    test_im=np.asarray(test_im,dtype=\"int32\")\n",
        "    test_im=tf.convert_to_tensor(test_im,dtype=tf.float32)\n",
        "    test_im=tf.reshape(test_im,(1,120,120,3))\n",
        "\n",
        "    score=model.predict(test_im)[0][0]\n",
        "    if (path!='Georg' and score < 0.5) or (path=='Georg' and score >= 0.5):\n",
        "      total_score+=1\n",
        "print(total_score/total_pics)"
      ],
      "execution_count": 23,
      "outputs": [
        {
          "output_type": "stream",
          "text": [
            "0.5284810126582279\n"
          ],
          "name": "stdout"
        }
      ]
    },
    {
      "cell_type": "code",
      "metadata": {
        "id": "dWKWtypH0Vmq",
        "colab_type": "code",
        "colab": {
          "base_uri": "https://localhost:8080/",
          "height": 34
        },
        "outputId": "a0ff6c95-b98c-42a0-b279-6e7311819aa6"
      },
      "source": [
        "score_myface=0\n",
        "name=\"\"\n",
        "pic_=len(os.listdir(\"/content/gdrive/My Drive/Test-FaceRecognition/\"+name))\n",
        "for i in range(pic_):\n",
        "    test_im=PIL.Image.open(\"/content/gdrive/My Drive/Test-FaceRecognition/\"+name+\"/\"+name+\"%04d\" %i+ \".jpg\")\n",
        "    test_im=np.asarray(test_im,dtype=\"int32\")\n",
        "    test_im=tf.convert_to_tensor(test_im,dtype=tf.float32)\n",
        "    test_im=tf.reshape(test_im,(1,120,120,3))\n",
        "    if model.predict(test_im)[0][0] >=0.5:\n",
        "      score_myface+=1\n",
        "print(score_myface,pic_,score_myface/pic_)"
      ],
      "execution_count": null,
      "outputs": [
        {
          "output_type": "stream",
          "text": [
            "114 142 0.8028169014084507\n"
          ],
          "name": "stdout"
        }
      ]
    },
    {
      "cell_type": "code",
      "metadata": {
        "id": "pUbDMz-C3qbH",
        "colab_type": "code",
        "colab": {}
      },
      "source": [
        ""
      ],
      "execution_count": null,
      "outputs": []
    },
    {
      "cell_type": "code",
      "metadata": {
        "id": "JgLqW2e_31wA",
        "colab_type": "code",
        "colab": {}
      },
      "source": [
        ""
      ],
      "execution_count": null,
      "outputs": []
    }
  ]
}